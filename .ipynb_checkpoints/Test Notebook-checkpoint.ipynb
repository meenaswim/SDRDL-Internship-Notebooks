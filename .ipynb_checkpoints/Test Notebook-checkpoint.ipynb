{
 "metadata": {
  "name": "",
  "signature": "sha256:a1e5ae5a131c19e00cf1426d87f3075b4833a25b34a959ec1c6489dc406ff92f"
 },
 "nbformat": 3,
 "nbformat_minor": 0,
 "worksheets": [
  {
   "cells": [
    {
     "cell_type": "code",
     "collapsed": false,
     "input": [
      "x = 3 + 4\n"
     ],
     "language": "python",
     "metadata": {},
     "outputs": [],
     "prompt_number": 1
    },
    {
     "cell_type": "code",
     "collapsed": false,
     "input": [],
     "language": "python",
     "metadata": {},
     "outputs": []
    }
   ],
   "metadata": {}
  }
 ]
}